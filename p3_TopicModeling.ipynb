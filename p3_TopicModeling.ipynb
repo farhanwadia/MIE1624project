{
  "nbformat": 4,
  "nbformat_minor": 0,
  "metadata": {
    "colab": {
      "provenance": [],
      "authorship_tag": "ABX9TyOV9ezDXOVpRubOoBKHURbN",
      "include_colab_link": true
    },
    "kernelspec": {
      "name": "python3",
      "display_name": "Python 3"
    },
    "language_info": {
      "name": "python"
    }
  },
  "cells": [
    {
      "cell_type": "markdown",
      "metadata": {
        "id": "view-in-github",
        "colab_type": "text"
      },
      "source": [
        "<a href=\"https://colab.research.google.com/github/farhanwadia/nlp_g14/blob/Geet/p3_TopicModeling.ipynb\" target=\"_parent\"><img src=\"https://colab.research.google.com/assets/colab-badge.svg\" alt=\"Open In Colab\"/></a>"
      ]
    },
    {
      "cell_type": "markdown",
      "source": [
        "# Setting up notebook\n"
      ],
      "metadata": {
        "id": "S5YD0vf9epOL"
      }
    },
    {
      "cell_type": "code",
      "source": [
        "# cloning our Project Repo\n",
        "!git clone -b Geet https://github.com/farhanwadia/nlp_g14.git"
      ],
      "metadata": {
        "colab": {
          "base_uri": "https://localhost:8080/"
        },
        "id": "wm9L8jRRewGo",
        "outputId": "f5bc6029-9231-4b89-a807-60736b1ef767"
      },
      "execution_count": 3,
      "outputs": [
        {
          "output_type": "stream",
          "name": "stdout",
          "text": [
            "Cloning into 'nlp_g14'...\n",
            "remote: Enumerating objects: 23, done.\u001b[K\n",
            "remote: Counting objects: 100% (23/23), done.\u001b[K\n",
            "remote: Compressing objects: 100% (20/20), done.\u001b[K\n",
            "remote: Total 23 (delta 6), reused 7 (delta 0), pack-reused 0\u001b[K\n",
            "Unpacking objects: 100% (23/23), 1.17 MiB | 8.10 MiB/s, done.\n"
          ]
        }
      ]
    },
    {
      "cell_type": "code",
      "source": [
        "%cd nlp_g14/"
      ],
      "metadata": {
        "colab": {
          "base_uri": "https://localhost:8080/"
        },
        "id": "nkpVrt8oi1pU",
        "outputId": "c6a25b4c-e176-4c66-a629-3d15527fcc17"
      },
      "execution_count": 4,
      "outputs": [
        {
          "output_type": "stream",
          "name": "stdout",
          "text": [
            "/content/nlp_g14\n"
          ]
        }
      ]
    },
    {
      "cell_type": "code",
      "source": [
        "! ls"
      ],
      "metadata": {
        "colab": {
          "base_uri": "https://localhost:8080/"
        },
        "id": "ioVpIGZFi5Mb",
        "outputId": "55e82728-0c31-415f-e40f-4edc750aaa0d"
      },
      "execution_count": 5,
      "outputs": [
        {
          "output_type": "stream",
          "name": "stdout",
          "text": [
            "MIE1624Project.ipynb\treddit_scraper.ipynb\n",
            "p3_TopicModeling.ipynb\trussia_ukraine_reddit_comments.csv\n",
            "README.md\n"
          ]
        }
      ]
    },
    {
      "cell_type": "markdown",
      "source": [
        "# Import Libraries\n"
      ],
      "metadata": {
        "id": "g_FGkQJXhOYO"
      }
    },
    {
      "cell_type": "code",
      "source": [
        "# importing basic python modules that we most probably will be using in the notebook\n",
        "import numpy as np\n",
        "import pandas as pd\n",
        "import matplotlib.pyplot as plt\n",
        "import seaborn as sns\n",
        "try: \n",
        "  import langdetect\n",
        "except:\n",
        "  !pip install langdetect\n",
        "  import langdetect\n",
        "\n",
        "# to make sure our plots are inline with the code cells\n",
        "%matplotlib inline "
      ],
      "metadata": {
        "colab": {
          "base_uri": "https://localhost:8080/"
        },
        "id": "5S8dRtAuhYE_",
        "outputId": "5ad24a2c-4630-405d-bd6c-e17c75d67276"
      },
      "execution_count": 17,
      "outputs": [
        {
          "output_type": "stream",
          "name": "stdout",
          "text": [
            "Looking in indexes: https://pypi.org/simple, https://us-python.pkg.dev/colab-wheels/public/simple/\n",
            "Collecting langdetect\n",
            "  Downloading langdetect-1.0.9.tar.gz (981 kB)\n",
            "\u001b[2K     \u001b[90m━━━━━━━━━━━━━━━━━━━━━━━━━━━━━━━━━━━━━━\u001b[0m \u001b[32m981.5/981.5 KB\u001b[0m \u001b[31m35.1 MB/s\u001b[0m eta \u001b[36m0:00:00\u001b[0m\n",
            "\u001b[?25h  Preparing metadata (setup.py) ... \u001b[?25l\u001b[?25hdone\n",
            "Requirement already satisfied: six in /usr/local/lib/python3.9/dist-packages (from langdetect) (1.16.0)\n",
            "Building wheels for collected packages: langdetect\n",
            "  Building wheel for langdetect (setup.py) ... \u001b[?25l\u001b[?25hdone\n",
            "  Created wheel for langdetect: filename=langdetect-1.0.9-py3-none-any.whl size=993243 sha256=662ba644d0b61137fa2cddbc7b7f1c3c8e7ab5bec3276e9a2c42406e96d0d107\n",
            "  Stored in directory: /root/.cache/pip/wheels/d1/c1/d9/7e068de779d863bc8f8fc9467d85e25cfe47fa5051fff1a1bb\n",
            "Successfully built langdetect\n",
            "Installing collected packages: langdetect\n",
            "Successfully installed langdetect-1.0.9\n"
          ]
        }
      ]
    },
    {
      "cell_type": "code",
      "source": [
        "reddit_data = 'russia_ukraine_reddit_comments.csv'\n",
        "reddit_df = pd.read_csv(reddit_data)\n",
        "reddit_df.head()"
      ],
      "metadata": {
        "colab": {
          "base_uri": "https://localhost:8080/",
          "height": 577
        },
        "id": "ADFxoESIigee",
        "outputId": "de8849f2-83b5-4eb5-ded2-88da44111250"
      },
      "execution_count": 7,
      "outputs": [
        {
          "output_type": "execute_result",
          "data": {
            "text/plain": [
              "        Post - Author          Post - Date Post - Is Distinguished  \\\n",
              "0  flyingcatwithhorns  2023-03-15 14:16:41                     NaN   \n",
              "1  flyingcatwithhorns  2023-03-15 14:16:41                     NaN   \n",
              "2  flyingcatwithhorns  2023-03-15 14:16:41                     NaN   \n",
              "3  flyingcatwithhorns  2023-03-15 14:16:41                     NaN   \n",
              "4  flyingcatwithhorns  2023-03-15 14:16:41                     NaN   \n",
              "\n",
              "  Post - Is Edited Post - Is Original Content  Post - Is Locked Post - Name  \\\n",
              "0            False                      False             False  t3_11rxpnv   \n",
              "1            False                      False             False  t3_11rxpnv   \n",
              "2            False                      False             False  t3_11rxpnv   \n",
              "3            False                      False             False  t3_11rxpnv   \n",
              "4            False                      False             False  t3_11rxpnv   \n",
              "\n",
              "   Post - num_comments  Post - over_18  \\\n",
              "0                  392           False   \n",
              "1                  392           False   \n",
              "2                  392           False   \n",
              "3                  392           False   \n",
              "4                  392           False   \n",
              "\n",
              "                                    Post - Permalink  ...           Author  \\\n",
              "0  http://www.reddit.com/r/MapPorn/comments/11rxp...  ...        iwsfutcmd   \n",
              "1  http://www.reddit.com/r/MapPorn/comments/11rxp...  ...       snowday784   \n",
              "2  http://www.reddit.com/r/MapPorn/comments/11rxp...  ...      micahsaurus   \n",
              "3  http://www.reddit.com/r/MapPorn/comments/11rxp...  ...         grisioco   \n",
              "4  http://www.reddit.com/r/MapPorn/comments/11rxp...  ...  Foreign_Phone59   \n",
              "\n",
              "                  Date  Parent ID Prefix Parent ID Is Distinguished  \\\n",
              "0  2023-03-15 19:15:22                t3   11rxpnv              NaN   \n",
              "1  2023-03-15 17:25:13                t3   11rxpnv              NaN   \n",
              "2  2023-03-15 15:32:45                t3   11rxpnv              NaN   \n",
              "3  2023-03-15 14:28:30                t3   11rxpnv              NaN   \n",
              "4  2023-03-15 22:18:48                t3   11rxpnv              NaN   \n",
              "\n",
              "   Is Edited Is Stickied                                          Permalink  \\\n",
              "0      False       False  http://www.reddit.com/r/MapPorn/comments/11rxp...   \n",
              "1      False       False  http://www.reddit.com/r/MapPorn/comments/11rxp...   \n",
              "2      False       False  http://www.reddit.com/r/MapPorn/comments/11rxp...   \n",
              "3      False       False  http://www.reddit.com/r/MapPorn/comments/11rxp...   \n",
              "4      False       False  http://www.reddit.com/r/MapPorn/comments/11rxp...   \n",
              "\n",
              "  Score                                               Body  \n",
              "0    75                 Myanmar?\\n\\nwell that's a surprise  \n",
              "1   316                      Bolivia what is you doing bby  \n",
              "2   202  Kind of misleading.\\n\\nIt should read, “Which ...  \n",
              "3   371  you know youre in the right when the only coun...  \n",
              "4    50  Not Afganistan and Myanmar being beacons of re...  \n",
              "\n",
              "[5 rows x 27 columns]"
            ],
            "text/html": [
              "\n",
              "  <div id=\"df-60863b0d-d2c5-4219-b420-28126e908c25\">\n",
              "    <div class=\"colab-df-container\">\n",
              "      <div>\n",
              "<style scoped>\n",
              "    .dataframe tbody tr th:only-of-type {\n",
              "        vertical-align: middle;\n",
              "    }\n",
              "\n",
              "    .dataframe tbody tr th {\n",
              "        vertical-align: top;\n",
              "    }\n",
              "\n",
              "    .dataframe thead th {\n",
              "        text-align: right;\n",
              "    }\n",
              "</style>\n",
              "<table border=\"1\" class=\"dataframe\">\n",
              "  <thead>\n",
              "    <tr style=\"text-align: right;\">\n",
              "      <th></th>\n",
              "      <th>Post - Author</th>\n",
              "      <th>Post - Date</th>\n",
              "      <th>Post - Is Distinguished</th>\n",
              "      <th>Post - Is Edited</th>\n",
              "      <th>Post - Is Original Content</th>\n",
              "      <th>Post - Is Locked</th>\n",
              "      <th>Post - Name</th>\n",
              "      <th>Post - num_comments</th>\n",
              "      <th>Post - over_18</th>\n",
              "      <th>Post - Permalink</th>\n",
              "      <th>...</th>\n",
              "      <th>Author</th>\n",
              "      <th>Date</th>\n",
              "      <th>Parent ID Prefix</th>\n",
              "      <th>Parent ID</th>\n",
              "      <th>Is Distinguished</th>\n",
              "      <th>Is Edited</th>\n",
              "      <th>Is Stickied</th>\n",
              "      <th>Permalink</th>\n",
              "      <th>Score</th>\n",
              "      <th>Body</th>\n",
              "    </tr>\n",
              "  </thead>\n",
              "  <tbody>\n",
              "    <tr>\n",
              "      <th>0</th>\n",
              "      <td>flyingcatwithhorns</td>\n",
              "      <td>2023-03-15 14:16:41</td>\n",
              "      <td>NaN</td>\n",
              "      <td>False</td>\n",
              "      <td>False</td>\n",
              "      <td>False</td>\n",
              "      <td>t3_11rxpnv</td>\n",
              "      <td>392</td>\n",
              "      <td>False</td>\n",
              "      <td>http://www.reddit.com/r/MapPorn/comments/11rxp...</td>\n",
              "      <td>...</td>\n",
              "      <td>iwsfutcmd</td>\n",
              "      <td>2023-03-15 19:15:22</td>\n",
              "      <td>t3</td>\n",
              "      <td>11rxpnv</td>\n",
              "      <td>NaN</td>\n",
              "      <td>False</td>\n",
              "      <td>False</td>\n",
              "      <td>http://www.reddit.com/r/MapPorn/comments/11rxp...</td>\n",
              "      <td>75</td>\n",
              "      <td>Myanmar?\\n\\nwell that's a surprise</td>\n",
              "    </tr>\n",
              "    <tr>\n",
              "      <th>1</th>\n",
              "      <td>flyingcatwithhorns</td>\n",
              "      <td>2023-03-15 14:16:41</td>\n",
              "      <td>NaN</td>\n",
              "      <td>False</td>\n",
              "      <td>False</td>\n",
              "      <td>False</td>\n",
              "      <td>t3_11rxpnv</td>\n",
              "      <td>392</td>\n",
              "      <td>False</td>\n",
              "      <td>http://www.reddit.com/r/MapPorn/comments/11rxp...</td>\n",
              "      <td>...</td>\n",
              "      <td>snowday784</td>\n",
              "      <td>2023-03-15 17:25:13</td>\n",
              "      <td>t3</td>\n",
              "      <td>11rxpnv</td>\n",
              "      <td>NaN</td>\n",
              "      <td>False</td>\n",
              "      <td>False</td>\n",
              "      <td>http://www.reddit.com/r/MapPorn/comments/11rxp...</td>\n",
              "      <td>316</td>\n",
              "      <td>Bolivia what is you doing bby</td>\n",
              "    </tr>\n",
              "    <tr>\n",
              "      <th>2</th>\n",
              "      <td>flyingcatwithhorns</td>\n",
              "      <td>2023-03-15 14:16:41</td>\n",
              "      <td>NaN</td>\n",
              "      <td>False</td>\n",
              "      <td>False</td>\n",
              "      <td>False</td>\n",
              "      <td>t3_11rxpnv</td>\n",
              "      <td>392</td>\n",
              "      <td>False</td>\n",
              "      <td>http://www.reddit.com/r/MapPorn/comments/11rxp...</td>\n",
              "      <td>...</td>\n",
              "      <td>micahsaurus</td>\n",
              "      <td>2023-03-15 15:32:45</td>\n",
              "      <td>t3</td>\n",
              "      <td>11rxpnv</td>\n",
              "      <td>NaN</td>\n",
              "      <td>False</td>\n",
              "      <td>False</td>\n",
              "      <td>http://www.reddit.com/r/MapPorn/comments/11rxp...</td>\n",
              "      <td>202</td>\n",
              "      <td>Kind of misleading.\\n\\nIt should read, “Which ...</td>\n",
              "    </tr>\n",
              "    <tr>\n",
              "      <th>3</th>\n",
              "      <td>flyingcatwithhorns</td>\n",
              "      <td>2023-03-15 14:16:41</td>\n",
              "      <td>NaN</td>\n",
              "      <td>False</td>\n",
              "      <td>False</td>\n",
              "      <td>False</td>\n",
              "      <td>t3_11rxpnv</td>\n",
              "      <td>392</td>\n",
              "      <td>False</td>\n",
              "      <td>http://www.reddit.com/r/MapPorn/comments/11rxp...</td>\n",
              "      <td>...</td>\n",
              "      <td>grisioco</td>\n",
              "      <td>2023-03-15 14:28:30</td>\n",
              "      <td>t3</td>\n",
              "      <td>11rxpnv</td>\n",
              "      <td>NaN</td>\n",
              "      <td>False</td>\n",
              "      <td>False</td>\n",
              "      <td>http://www.reddit.com/r/MapPorn/comments/11rxp...</td>\n",
              "      <td>371</td>\n",
              "      <td>you know youre in the right when the only coun...</td>\n",
              "    </tr>\n",
              "    <tr>\n",
              "      <th>4</th>\n",
              "      <td>flyingcatwithhorns</td>\n",
              "      <td>2023-03-15 14:16:41</td>\n",
              "      <td>NaN</td>\n",
              "      <td>False</td>\n",
              "      <td>False</td>\n",
              "      <td>False</td>\n",
              "      <td>t3_11rxpnv</td>\n",
              "      <td>392</td>\n",
              "      <td>False</td>\n",
              "      <td>http://www.reddit.com/r/MapPorn/comments/11rxp...</td>\n",
              "      <td>...</td>\n",
              "      <td>Foreign_Phone59</td>\n",
              "      <td>2023-03-15 22:18:48</td>\n",
              "      <td>t3</td>\n",
              "      <td>11rxpnv</td>\n",
              "      <td>NaN</td>\n",
              "      <td>False</td>\n",
              "      <td>False</td>\n",
              "      <td>http://www.reddit.com/r/MapPorn/comments/11rxp...</td>\n",
              "      <td>50</td>\n",
              "      <td>Not Afganistan and Myanmar being beacons of re...</td>\n",
              "    </tr>\n",
              "  </tbody>\n",
              "</table>\n",
              "<p>5 rows × 27 columns</p>\n",
              "</div>\n",
              "      <button class=\"colab-df-convert\" onclick=\"convertToInteractive('df-60863b0d-d2c5-4219-b420-28126e908c25')\"\n",
              "              title=\"Convert this dataframe to an interactive table.\"\n",
              "              style=\"display:none;\">\n",
              "        \n",
              "  <svg xmlns=\"http://www.w3.org/2000/svg\" height=\"24px\"viewBox=\"0 0 24 24\"\n",
              "       width=\"24px\">\n",
              "    <path d=\"M0 0h24v24H0V0z\" fill=\"none\"/>\n",
              "    <path d=\"M18.56 5.44l.94 2.06.94-2.06 2.06-.94-2.06-.94-.94-2.06-.94 2.06-2.06.94zm-11 1L8.5 8.5l.94-2.06 2.06-.94-2.06-.94L8.5 2.5l-.94 2.06-2.06.94zm10 10l.94 2.06.94-2.06 2.06-.94-2.06-.94-.94-2.06-.94 2.06-2.06.94z\"/><path d=\"M17.41 7.96l-1.37-1.37c-.4-.4-.92-.59-1.43-.59-.52 0-1.04.2-1.43.59L10.3 9.45l-7.72 7.72c-.78.78-.78 2.05 0 2.83L4 21.41c.39.39.9.59 1.41.59.51 0 1.02-.2 1.41-.59l7.78-7.78 2.81-2.81c.8-.78.8-2.07 0-2.86zM5.41 20L4 18.59l7.72-7.72 1.47 1.35L5.41 20z\"/>\n",
              "  </svg>\n",
              "      </button>\n",
              "      \n",
              "  <style>\n",
              "    .colab-df-container {\n",
              "      display:flex;\n",
              "      flex-wrap:wrap;\n",
              "      gap: 12px;\n",
              "    }\n",
              "\n",
              "    .colab-df-convert {\n",
              "      background-color: #E8F0FE;\n",
              "      border: none;\n",
              "      border-radius: 50%;\n",
              "      cursor: pointer;\n",
              "      display: none;\n",
              "      fill: #1967D2;\n",
              "      height: 32px;\n",
              "      padding: 0 0 0 0;\n",
              "      width: 32px;\n",
              "    }\n",
              "\n",
              "    .colab-df-convert:hover {\n",
              "      background-color: #E2EBFA;\n",
              "      box-shadow: 0px 1px 2px rgba(60, 64, 67, 0.3), 0px 1px 3px 1px rgba(60, 64, 67, 0.15);\n",
              "      fill: #174EA6;\n",
              "    }\n",
              "\n",
              "    [theme=dark] .colab-df-convert {\n",
              "      background-color: #3B4455;\n",
              "      fill: #D2E3FC;\n",
              "    }\n",
              "\n",
              "    [theme=dark] .colab-df-convert:hover {\n",
              "      background-color: #434B5C;\n",
              "      box-shadow: 0px 1px 3px 1px rgba(0, 0, 0, 0.15);\n",
              "      filter: drop-shadow(0px 1px 2px rgba(0, 0, 0, 0.3));\n",
              "      fill: #FFFFFF;\n",
              "    }\n",
              "  </style>\n",
              "\n",
              "      <script>\n",
              "        const buttonEl =\n",
              "          document.querySelector('#df-60863b0d-d2c5-4219-b420-28126e908c25 button.colab-df-convert');\n",
              "        buttonEl.style.display =\n",
              "          google.colab.kernel.accessAllowed ? 'block' : 'none';\n",
              "\n",
              "        async function convertToInteractive(key) {\n",
              "          const element = document.querySelector('#df-60863b0d-d2c5-4219-b420-28126e908c25');\n",
              "          const dataTable =\n",
              "            await google.colab.kernel.invokeFunction('convertToInteractive',\n",
              "                                                     [key], {});\n",
              "          if (!dataTable) return;\n",
              "\n",
              "          const docLinkHtml = 'Like what you see? Visit the ' +\n",
              "            '<a target=\"_blank\" href=https://colab.research.google.com/notebooks/data_table.ipynb>data table notebook</a>'\n",
              "            + ' to learn more about interactive tables.';\n",
              "          element.innerHTML = '';\n",
              "          dataTable['output_type'] = 'display_data';\n",
              "          await google.colab.output.renderOutput(dataTable, element);\n",
              "          const docLink = document.createElement('div');\n",
              "          docLink.innerHTML = docLinkHtml;\n",
              "          element.appendChild(docLink);\n",
              "        }\n",
              "      </script>\n",
              "    </div>\n",
              "  </div>\n",
              "  "
            ]
          },
          "metadata": {},
          "execution_count": 7
        }
      ]
    },
    {
      "cell_type": "code",
      "source": [
        "reddit_df['Date'].value_counts()"
      ],
      "metadata": {
        "colab": {
          "base_uri": "https://localhost:8080/"
        },
        "id": "Yf-f_YkPjfWy",
        "outputId": "e0dd47de-e508-4174-b327-a0553f34f6f5"
      },
      "execution_count": 10,
      "outputs": [
        {
          "output_type": "execute_result",
          "data": {
            "text/plain": [
              "2022-03-03 09:57:35    2\n",
              "2022-03-01 17:12:20    2\n",
              "2023-02-20 19:49:39    2\n",
              "2022-02-24 04:43:07    2\n",
              "2022-03-01 17:45:34    2\n",
              "                      ..\n",
              "2023-02-24 15:57:55    1\n",
              "2023-02-24 20:08:23    1\n",
              "2023-02-24 18:33:48    1\n",
              "2023-02-24 17:59:51    1\n",
              "2023-02-21 17:36:10    1\n",
              "Name: Date, Length: 7806, dtype: int64"
            ]
          },
          "metadata": {},
          "execution_count": 10
        }
      ]
    },
    {
      "cell_type": "code",
      "source": [
        "red_text_df = reddit_df[['Body', 'Date']].copy(deep=True)"
      ],
      "metadata": {
        "id": "rXEri57fjFaN"
      },
      "execution_count": 12,
      "outputs": []
    },
    {
      "cell_type": "code",
      "source": [
        "# Check nulls\n",
        "red_text_df.isnull().sum(axis=0)"
      ],
      "metadata": {
        "colab": {
          "base_uri": "https://localhost:8080/"
        },
        "id": "R34zo43ylL0V",
        "outputId": "3a9373ca-b01d-45f0-8cb1-ce1e53a9e0e5"
      },
      "execution_count": 14,
      "outputs": [
        {
          "output_type": "execute_result",
          "data": {
            "text/plain": [
              "Body    0\n",
              "Date    0\n",
              "dtype: int64"
            ]
          },
          "metadata": {},
          "execution_count": 14
        }
      ]
    },
    {
      "cell_type": "code",
      "source": [
        "# Drop Duplicates\n",
        "print(red_text_df.info())\n",
        "red_text_df.drop_duplicates(subset='Body', inplace=True)\n",
        "red_text_df.info()"
      ],
      "metadata": {
        "colab": {
          "base_uri": "https://localhost:8080/"
        },
        "id": "wClfNivTltAt",
        "outputId": "233fa4a5-9ea8-4320-8521-aefd4208e980"
      },
      "execution_count": 16,
      "outputs": [
        {
          "output_type": "stream",
          "name": "stdout",
          "text": [
            "<class 'pandas.core.frame.DataFrame'>\n",
            "RangeIndex: 7852 entries, 0 to 7851\n",
            "Data columns (total 2 columns):\n",
            " #   Column  Non-Null Count  Dtype \n",
            "---  ------  --------------  ----- \n",
            " 0   Body    7852 non-null   object\n",
            " 1   Date    7852 non-null   object\n",
            "dtypes: object(2)\n",
            "memory usage: 122.8+ KB\n",
            "None\n",
            "<class 'pandas.core.frame.DataFrame'>\n",
            "Int64Index: 7645 entries, 0 to 7851\n",
            "Data columns (total 2 columns):\n",
            " #   Column  Non-Null Count  Dtype \n",
            "---  ------  --------------  ----- \n",
            " 0   Body    7645 non-null   object\n",
            " 1   Date    7645 non-null   object\n",
            "dtypes: object(2)\n",
            "memory usage: 179.2+ KB\n"
          ]
        }
      ]
    },
    {
      "cell_type": "code",
      "source": [
        "# Filter to only have english\n",
        "\n",
        "from langdetect import detect, DetectorFactory\n",
        "DetectorFactory.seed = 0\n",
        "\n",
        "def detect_language(text):\n",
        "  try:\n",
        "    return detect(text)\n",
        "  except:\n",
        "    return None\n",
        "\n",
        "red_text_df['language'] = red_text_df['Body'].apply(detect_language)\n",
        "red_text_df.head()"
      ],
      "metadata": {
        "colab": {
          "base_uri": "https://localhost:8080/",
          "height": 206
        },
        "id": "qaYkcCS4mO3R",
        "outputId": "5f16a70a-56ae-43ca-dde3-9a8d1b39c009"
      },
      "execution_count": 18,
      "outputs": [
        {
          "output_type": "execute_result",
          "data": {
            "text/plain": [
              "                                                Body                 Date  \\\n",
              "0                 Myanmar?\\n\\nwell that's a surprise  2023-03-15 19:15:22   \n",
              "1                      Bolivia what is you doing bby  2023-03-15 17:25:13   \n",
              "2  Kind of misleading.\\n\\nIt should read, “Which ...  2023-03-15 15:32:45   \n",
              "3  you know youre in the right when the only coun...  2023-03-15 14:28:30   \n",
              "4  Not Afganistan and Myanmar being beacons of re...  2023-03-15 22:18:48   \n",
              "\n",
              "  language  \n",
              "0       en  \n",
              "1       en  \n",
              "2       en  \n",
              "3       en  \n",
              "4       en  "
            ],
            "text/html": [
              "\n",
              "  <div id=\"df-55f75eb1-aa9a-4ec4-9c96-0ca2ce9e2bf2\">\n",
              "    <div class=\"colab-df-container\">\n",
              "      <div>\n",
              "<style scoped>\n",
              "    .dataframe tbody tr th:only-of-type {\n",
              "        vertical-align: middle;\n",
              "    }\n",
              "\n",
              "    .dataframe tbody tr th {\n",
              "        vertical-align: top;\n",
              "    }\n",
              "\n",
              "    .dataframe thead th {\n",
              "        text-align: right;\n",
              "    }\n",
              "</style>\n",
              "<table border=\"1\" class=\"dataframe\">\n",
              "  <thead>\n",
              "    <tr style=\"text-align: right;\">\n",
              "      <th></th>\n",
              "      <th>Body</th>\n",
              "      <th>Date</th>\n",
              "      <th>language</th>\n",
              "    </tr>\n",
              "  </thead>\n",
              "  <tbody>\n",
              "    <tr>\n",
              "      <th>0</th>\n",
              "      <td>Myanmar?\\n\\nwell that's a surprise</td>\n",
              "      <td>2023-03-15 19:15:22</td>\n",
              "      <td>en</td>\n",
              "    </tr>\n",
              "    <tr>\n",
              "      <th>1</th>\n",
              "      <td>Bolivia what is you doing bby</td>\n",
              "      <td>2023-03-15 17:25:13</td>\n",
              "      <td>en</td>\n",
              "    </tr>\n",
              "    <tr>\n",
              "      <th>2</th>\n",
              "      <td>Kind of misleading.\\n\\nIt should read, “Which ...</td>\n",
              "      <td>2023-03-15 15:32:45</td>\n",
              "      <td>en</td>\n",
              "    </tr>\n",
              "    <tr>\n",
              "      <th>3</th>\n",
              "      <td>you know youre in the right when the only coun...</td>\n",
              "      <td>2023-03-15 14:28:30</td>\n",
              "      <td>en</td>\n",
              "    </tr>\n",
              "    <tr>\n",
              "      <th>4</th>\n",
              "      <td>Not Afganistan and Myanmar being beacons of re...</td>\n",
              "      <td>2023-03-15 22:18:48</td>\n",
              "      <td>en</td>\n",
              "    </tr>\n",
              "  </tbody>\n",
              "</table>\n",
              "</div>\n",
              "      <button class=\"colab-df-convert\" onclick=\"convertToInteractive('df-55f75eb1-aa9a-4ec4-9c96-0ca2ce9e2bf2')\"\n",
              "              title=\"Convert this dataframe to an interactive table.\"\n",
              "              style=\"display:none;\">\n",
              "        \n",
              "  <svg xmlns=\"http://www.w3.org/2000/svg\" height=\"24px\"viewBox=\"0 0 24 24\"\n",
              "       width=\"24px\">\n",
              "    <path d=\"M0 0h24v24H0V0z\" fill=\"none\"/>\n",
              "    <path d=\"M18.56 5.44l.94 2.06.94-2.06 2.06-.94-2.06-.94-.94-2.06-.94 2.06-2.06.94zm-11 1L8.5 8.5l.94-2.06 2.06-.94-2.06-.94L8.5 2.5l-.94 2.06-2.06.94zm10 10l.94 2.06.94-2.06 2.06-.94-2.06-.94-.94-2.06-.94 2.06-2.06.94z\"/><path d=\"M17.41 7.96l-1.37-1.37c-.4-.4-.92-.59-1.43-.59-.52 0-1.04.2-1.43.59L10.3 9.45l-7.72 7.72c-.78.78-.78 2.05 0 2.83L4 21.41c.39.39.9.59 1.41.59.51 0 1.02-.2 1.41-.59l7.78-7.78 2.81-2.81c.8-.78.8-2.07 0-2.86zM5.41 20L4 18.59l7.72-7.72 1.47 1.35L5.41 20z\"/>\n",
              "  </svg>\n",
              "      </button>\n",
              "      \n",
              "  <style>\n",
              "    .colab-df-container {\n",
              "      display:flex;\n",
              "      flex-wrap:wrap;\n",
              "      gap: 12px;\n",
              "    }\n",
              "\n",
              "    .colab-df-convert {\n",
              "      background-color: #E8F0FE;\n",
              "      border: none;\n",
              "      border-radius: 50%;\n",
              "      cursor: pointer;\n",
              "      display: none;\n",
              "      fill: #1967D2;\n",
              "      height: 32px;\n",
              "      padding: 0 0 0 0;\n",
              "      width: 32px;\n",
              "    }\n",
              "\n",
              "    .colab-df-convert:hover {\n",
              "      background-color: #E2EBFA;\n",
              "      box-shadow: 0px 1px 2px rgba(60, 64, 67, 0.3), 0px 1px 3px 1px rgba(60, 64, 67, 0.15);\n",
              "      fill: #174EA6;\n",
              "    }\n",
              "\n",
              "    [theme=dark] .colab-df-convert {\n",
              "      background-color: #3B4455;\n",
              "      fill: #D2E3FC;\n",
              "    }\n",
              "\n",
              "    [theme=dark] .colab-df-convert:hover {\n",
              "      background-color: #434B5C;\n",
              "      box-shadow: 0px 1px 3px 1px rgba(0, 0, 0, 0.15);\n",
              "      filter: drop-shadow(0px 1px 2px rgba(0, 0, 0, 0.3));\n",
              "      fill: #FFFFFF;\n",
              "    }\n",
              "  </style>\n",
              "\n",
              "      <script>\n",
              "        const buttonEl =\n",
              "          document.querySelector('#df-55f75eb1-aa9a-4ec4-9c96-0ca2ce9e2bf2 button.colab-df-convert');\n",
              "        buttonEl.style.display =\n",
              "          google.colab.kernel.accessAllowed ? 'block' : 'none';\n",
              "\n",
              "        async function convertToInteractive(key) {\n",
              "          const element = document.querySelector('#df-55f75eb1-aa9a-4ec4-9c96-0ca2ce9e2bf2');\n",
              "          const dataTable =\n",
              "            await google.colab.kernel.invokeFunction('convertToInteractive',\n",
              "                                                     [key], {});\n",
              "          if (!dataTable) return;\n",
              "\n",
              "          const docLinkHtml = 'Like what you see? Visit the ' +\n",
              "            '<a target=\"_blank\" href=https://colab.research.google.com/notebooks/data_table.ipynb>data table notebook</a>'\n",
              "            + ' to learn more about interactive tables.';\n",
              "          element.innerHTML = '';\n",
              "          dataTable['output_type'] = 'display_data';\n",
              "          await google.colab.output.renderOutput(dataTable, element);\n",
              "          const docLink = document.createElement('div');\n",
              "          docLink.innerHTML = docLinkHtml;\n",
              "          element.appendChild(docLink);\n",
              "        }\n",
              "      </script>\n",
              "    </div>\n",
              "  </div>\n",
              "  "
            ]
          },
          "metadata": {},
          "execution_count": 18
        }
      ]
    }
  ]
}