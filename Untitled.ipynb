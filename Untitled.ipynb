{
 "cells": [
  {
   "cell_type": "code",
   "execution_count": 1,
   "id": "d8fa2a3f-9d18-40e2-84f0-a48acd2e94f1",
   "metadata": {
    "tags": []
   },
   "outputs": [
    {
     "name": "stdout",
     "output_type": "stream",
     "text": [
      "Requirement already satisfied: nbmerge in c:\\users\\farhan\\appdata\\local\\programs\\python\\python310\\lib\\site-packages (0.0.4)\n"
     ]
    }
   ],
   "source": [
    "!pip install nbmerge"
   ]
  },
  {
   "cell_type": "code",
   "execution_count": 23,
   "id": "652874bd-59ad-4228-b185-4c9dfd37d4bd",
   "metadata": {
    "tags": []
   },
   "outputs": [],
   "source": [
    "!nbmerge merged.ipynb p3_TopicModeling_final_Dhairya.ipynb -o merged2.ipynb"
   ]
  },
  {
   "cell_type": "code",
   "execution_count": null,
   "id": "1905a88c-c52c-41b5-902d-0ece35b49344",
   "metadata": {},
   "outputs": [],
   "source": []
  }
 ],
 "metadata": {
  "kernelspec": {
   "display_name": "Python 3 (ipykernel)",
   "language": "python",
   "name": "python3"
  },
  "language_info": {
   "codemirror_mode": {
    "name": "ipython",
    "version": 3
   },
   "file_extension": ".py",
   "mimetype": "text/x-python",
   "name": "python",
   "nbconvert_exporter": "python",
   "pygments_lexer": "ipython3",
   "version": "3.10.5"
  }
 },
 "nbformat": 4,
 "nbformat_minor": 5
}
